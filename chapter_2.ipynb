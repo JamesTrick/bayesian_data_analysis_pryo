{
 "cells": [
  {
   "cell_type": "markdown",
   "metadata": {},
   "source": [
    "## Example: Probability of a girl birth given placenta previa\n",
    "\n",
    "In this example, we want to estimate the female birth rate."
   ]
  },
  {
   "cell_type": "code",
   "execution_count": 7,
   "metadata": {},
   "outputs": [],
   "source": [
    "import torch\n",
    "\n",
    "import pyro\n",
    "import pyro.distributions as dist\n",
    "from pyro.infer import MCMC, NUTS, Predictive\n",
    "\n",
    "import arviz as az\n",
    "import seaborn as sns\n",
    "import matplotlib.pyplot as plt"
   ]
  },
  {
   "cell_type": "code",
   "execution_count": 2,
   "metadata": {},
   "outputs": [],
   "source": [
    "births = torch.tensor(980.)\n",
    "num_female = torch.tensor(437.)"
   ]
  },
  {
   "cell_type": "code",
   "execution_count": 3,
   "metadata": {},
   "outputs": [
    {
     "data": {
      "text/plain": [
       "tensor(980.)"
      ]
     },
     "execution_count": 3,
     "metadata": {},
     "output_type": "execute_result"
    }
   ],
   "source": [
    "births"
   ]
  },
  {
   "cell_type": "code",
   "execution_count": 4,
   "metadata": {},
   "outputs": [],
   "source": [
    "def model(births, num_female):\n",
    "    theta = pyro.sample(\"theta\", dist.Uniform(0, 1))\n",
    "    return pyro.sample(\"rate\", dist.Binomial(total_count=births, probs=theta), obs=num_female)"
   ]
  },
  {
   "cell_type": "code",
   "execution_count": 5,
   "metadata": {},
   "outputs": [],
   "source": [
    "nuts_kernel = NUTS(model)\n",
    "mcmc = MCMC(nuts_kernel,\n",
    "           num_samples=20000,\n",
    "           warmup_steps=10000)"
   ]
  },
  {
   "cell_type": "code",
   "execution_count": 6,
   "metadata": {},
   "outputs": [
    {
     "name": "stderr",
     "output_type": "stream",
     "text": [
      "Sample: 100%|██████████| 30000/30000 [02:01, 247.45it/s, step size=9.74e-01, acc. prob=0.927]\n"
     ]
    }
   ],
   "source": [
    "mcmc.run(births, num_female)"
   ]
  },
  {
   "cell_type": "code",
   "execution_count": 7,
   "metadata": {},
   "outputs": [
    {
     "name": "stdout",
     "output_type": "stream",
     "text": [
      "\n",
      "                mean       std    median      5.0%     95.0%     n_eff     r_hat\n",
      "     theta      0.45      0.02      0.45      0.42      0.47   6514.93      1.00\n",
      "\n",
      "Number of divergences: 0\n"
     ]
    }
   ],
   "source": [
    "mcmc.summary()"
   ]
  },
  {
   "cell_type": "markdown",
   "metadata": {},
   "source": [
    "The book now introduces the 'sex ratio' which is the ratio of male births to female births. We can model this using `pyro.deterministic` as below:"
   ]
  },
  {
   "cell_type": "code",
   "execution_count": 88,
   "metadata": {},
   "outputs": [],
   "source": [
    "def model_2(births, num_female):\n",
    "    female_rate = pyro.sample(\"female_rate\", dist.Uniform(0, 1))\n",
    "    trans_val = pyro.deterministic(\"trans_val\", torch.log(female_rate / (1 - female_rate)))\n",
    "    trans = pyro.param(\"trans\", trans_val)\n",
    "    phi_val = pyro.deterministic(\"phi_val\", (1 - female_rate) / female_rate)\n",
    "    phi = pyro.param(\"phi\", phi_val)\n",
    "    sex_ratio = pyro.sample(\"sex_ratio\", dist.Binomial(total_count=births, probs=female_rate), obs=num_female)\n"
   ]
  },
  {
   "cell_type": "code",
   "execution_count": 89,
   "metadata": {},
   "outputs": [],
   "source": [
    "nuts_kernel = NUTS(model_2)\n",
    "mcmc = MCMC(nuts_kernel,\n",
    "           num_samples=20000,\n",
    "           warmup_steps=10000)"
   ]
  },
  {
   "cell_type": "code",
   "execution_count": 90,
   "metadata": {},
   "outputs": [
    {
     "name": "stderr",
     "output_type": "stream",
     "text": [
      "Sample: 100%|██████████| 30000/30000 [02:53, 173.30it/s, step size=8.59e-01, acc. prob=0.947]\n"
     ]
    }
   ],
   "source": [
    "mcmc.run(births, num_female)"
   ]
  },
  {
   "cell_type": "code",
   "execution_count": 91,
   "metadata": {},
   "outputs": [
    {
     "name": "stdout",
     "output_type": "stream",
     "text": [
      "\n",
      "                   mean       std    median      5.0%     95.0%     n_eff     r_hat\n",
      "  female_rate      0.45      0.02      0.45      0.42      0.47   8405.49      1.00\n",
      "\n",
      "Number of divergences: 0\n"
     ]
    }
   ],
   "source": [
    "mcmc.summary()"
   ]
  },
  {
   "cell_type": "code",
   "execution_count": 92,
   "metadata": {},
   "outputs": [],
   "source": [
    "posterior = Predictive(model, mcmc.get_samples()).get_samples(births, num_female)"
   ]
  },
  {
   "cell_type": "code",
   "execution_count": 93,
   "metadata": {},
   "outputs": [
    {
     "data": {
      "text/plain": [
       "{'phi': tensor([1.2427, 1.3184, 1.1339,  ..., 1.4135, 1.3519, 1.2659]),\n",
       " 'sex_ratio': tensor([437., 437., 437.,  ..., 437., 437., 437.])}"
      ]
     },
     "execution_count": 93,
     "metadata": {},
     "output_type": "execute_result"
    }
   ],
   "source": [
    "posterior"
   ]
  },
  {
   "cell_type": "markdown",
   "metadata": {},
   "source": [
    "## Estimating a rate from Poisson data: Asthma Death Rates"
   ]
  },
  {
   "cell_type": "code",
   "execution_count": 9,
   "metadata": {},
   "outputs": [],
   "source": [
    "samples = dist.Gamma(3., 5.).sample_n(10000)"
   ]
  },
  {
   "cell_type": "code",
   "execution_count": 10,
   "metadata": {
    "collapsed": true,
    "jupyter": {
     "outputs_hidden": true
    }
   },
   "outputs": [
    {
     "data": {
      "image/png": "[encoded data removed]",
      "text/plain": [
       "<Figure size 432x288 with 1 Axes>"
      ]
     },
     "metadata": {
      "needs_background": "light"
     },
     "output_type": "display_data"
    }
   ],
   "source": [
    "sns.distplot(samples.numpy())\n",
    "plt.title(\"Prior for asthma mortalility\")\n",
    "plt.show();"
   ]
  },
  {
   "cell_type": "code",
   "execution_count": 11,
   "metadata": {},
   "outputs": [],
   "source": [
    "def asthma_model():\n",
    "    theta = pyro.sample(\"theta\", dist.Gamma(3., 5.))\n",
    "    post = pyro.sample(\"post\", dist.Poisson(rate=theta * 2), obs=torch.tensor(3.))"
   ]
  },
  {
   "cell_type": "code",
   "execution_count": 12,
   "metadata": {},
   "outputs": [],
   "source": [
    "asthma_kernel = NUTS(asthma_model)\n",
    "asthma_mcmc = MCMC(asthma_kernel,\n",
    "           num_samples=20000,\n",
    "           warmup_steps=10000)"
   ]
  },
  {
   "cell_type": "code",
   "execution_count": 13,
   "metadata": {},
   "outputs": [
    {
     "name": "stderr",
     "output_type": "stream",
     "text": [
      "Sample: 100%|██████████| 30000/30000 [01:49, 275.13it/s, step size=7.74e-01, acc. prob=0.949]\n"
     ]
    }
   ],
   "source": [
    "asthma_mcmc.run()"
   ]
  },
  {
   "cell_type": "code",
   "execution_count": null,
   "metadata": {},
   "outputs": [],
   "source": [
    "asthma_mcmc.summary()"
   ]
  },
  {
   "cell_type": "markdown",
   "metadata": {},
   "source": [
    "In this updated example, we know that 30 people died of asthma related illness over 10 years. Instead up updating our prior, Gamma, distribution, we change the `obs` figure to reflect this.\n",
    "\n",
    "This will show us how the asthma mortality rate differs."
   ]
  },
  {
   "cell_type": "code",
   "execution_count": 11,
   "metadata": {},
   "outputs": [],
   "source": [
    "def asthma_model_2():\n",
    "    theta = pyro.sample(\"theta\", dist.Gamma(3., 5.))\n",
    "    post = pyro.sample(\"post\", dist.Poisson(rate=theta * 20), obs=torch.tensor(30.))\n"
   ]
  },
  {
   "cell_type": "code",
   "execution_count": 12,
   "metadata": {},
   "outputs": [],
   "source": [
    "asthma_kernel_2 = NUTS(asthma_model_2)\n",
    "asthma_mcmc_2 = MCMC(asthma_kernel_2,\n",
    "           num_samples=20000,\n",
    "           warmup_steps=10000)"
   ]
  },
  {
   "cell_type": "code",
   "execution_count": 13,
   "metadata": {},
   "outputs": [
    {
     "name": "stderr",
     "output_type": "stream",
     "text": [
      "Sample: 100%|██████████| 30000/30000 [01:27, 341.97it/s, step size=1.13e+00, acc. prob=0.902]\n"
     ]
    }
   ],
   "source": [
    "asthma_mcmc_2.run()"
   ]
  },
  {
   "cell_type": "code",
   "execution_count": 14,
   "metadata": {},
   "outputs": [
    {
     "name": "stdout",
     "output_type": "stream",
     "text": [
      "\n",
      "                mean       std    median      5.0%     95.0%     n_eff     r_hat\n",
      "     theta      1.32      0.23      1.31      0.96      1.70   7717.06      1.00\n",
      "\n",
      "Number of divergences: 0\n"
     ]
    }
   ],
   "source": [
    "asthma_mcmc_2.summary()"
   ]
  },
  {
   "cell_type": "code",
   "execution_count": null,
   "metadata": {},
   "outputs": [],
   "source": []
  },
  {
   "cell_type": "code",
   "execution_count": null,
   "metadata": {},
   "outputs": [],
   "source": []
  },
  {
   "cell_type": "code",
   "execution_count": null,
   "metadata": {},
   "outputs": [],
   "source": []
  }
 ],
 "metadata": {
  "kernelspec": {
   "display_name": "Python 3",
   "language": "python",
   "name": "python3"
  },
  "language_info": {
   "codemirror_mode": {
    "name": "ipython",
    "version": 3
   },
   "file_extension": ".py",
   "mimetype": "text/x-python",
   "name": "python",
   "nbconvert_exporter": "python",
   "pygments_lexer": "ipython3",
   "version": "3.6.8"
  }
 },
 "nbformat": 4,
 "nbformat_minor": 4
}
